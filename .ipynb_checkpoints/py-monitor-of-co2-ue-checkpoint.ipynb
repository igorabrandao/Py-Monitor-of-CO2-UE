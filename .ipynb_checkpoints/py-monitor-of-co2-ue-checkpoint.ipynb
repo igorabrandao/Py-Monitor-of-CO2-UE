{
 "cells": [
  {
   "cell_type": "markdown",
   "metadata": {},
   "source": [
    "# Programming Project - Unit 1,2\n",
    "*by Igor A. Brandão and Leandro Max*\n",
    "\n",
    "**Goals**\n",
    "- Analyse and generate visualization related to **Monitoring of CO2 emissions from passenger cars in UE**\n",
    "- Storytelling using Bokeh & Python\n",
    "- Explore competences about data visualization"
   ]
  },
  {
   "cell_type": "markdown",
   "metadata": {},
   "source": [
    "Code starts here!!!\n",
    "=============================="
   ]
  },
  {
   "cell_type": "markdown",
   "metadata": {},
   "source": [
    "## Dataset reader\n",
    "\n",
    "Here is the section that we read the dataset"
   ]
  },
  {
   "cell_type": "code",
   "execution_count": null,
   "metadata": {
    "collapsed": false
   },
   "outputs": [],
   "source": [
    "#import panda as pd\n",
    "import pandas as pd\n",
    "\n",
    "# Import the teste.csv data: data\n",
    "data = pd.read_csv( \"CO2_passenger_cars_v12.csv\", encoding = 'latin2', decimal = ',', sep = None, engine = 'python' )\n",
    "\n",
    "data"
   ]
  },
  {
   "cell_type": "code",
   "execution_count": null,
   "metadata": {
    "collapsed": true
   },
   "outputs": [],
   "source": []
  }
 ],
 "metadata": {
  "kernelspec": {
   "display_name": "Python 3",
   "language": "python",
   "name": "python3"
  },
  "language_info": {
   "codemirror_mode": {
    "name": "ipython",
    "version": 3
   },
   "file_extension": ".py",
   "mimetype": "text/x-python",
   "name": "python",
   "nbconvert_exporter": "python",
   "pygments_lexer": "ipython3",
   "version": "3.6.0"
  }
 },
 "nbformat": 4,
 "nbformat_minor": 2
}
